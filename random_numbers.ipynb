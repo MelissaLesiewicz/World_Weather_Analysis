{
 "cells": [
  {
   "cell_type": "code",
   "execution_count": 17,
   "id": "80bf3511",
   "metadata": {},
   "outputs": [],
   "source": [
    "import random\n",
    "import numpy as np\n"
   ]
  },
  {
   "cell_type": "code",
   "execution_count": 21,
   "id": "feb8f132",
   "metadata": {},
   "outputs": [],
   "source": [
    "import timeit"
   ]
  },
  {
   "cell_type": "code",
   "execution_count": 2,
   "id": "fd14fd85",
   "metadata": {},
   "outputs": [
    {
     "data": {
      "text/plain": [
       "0.7289988306945665"
      ]
     },
     "execution_count": 2,
     "metadata": {},
     "output_type": "execute_result"
    }
   ],
   "source": [
    "random.random()"
   ]
  },
  {
   "cell_type": "code",
   "execution_count": 4,
   "id": "1e2bd7ca",
   "metadata": {},
   "outputs": [
    {
     "data": {
      "text/plain": [
       "-2"
      ]
     },
     "execution_count": 4,
     "metadata": {},
     "output_type": "execute_result"
    }
   ],
   "source": [
    "random.randint(-10,10)"
   ]
  },
  {
   "cell_type": "code",
   "execution_count": 6,
   "id": "5771a9f0",
   "metadata": {},
   "outputs": [
    {
     "data": {
      "text/plain": [
       "16"
      ]
     },
     "execution_count": 6,
     "metadata": {},
     "output_type": "execute_result"
    }
   ],
   "source": [
    "random.randrange(-100,100,2)"
   ]
  },
  {
   "cell_type": "code",
   "execution_count": 7,
   "id": "917fd239",
   "metadata": {},
   "outputs": [
    {
     "data": {
      "text/plain": [
       "5.402278325744451"
      ]
     },
     "execution_count": 7,
     "metadata": {},
     "output_type": "execute_result"
    }
   ],
   "source": [
    "random.uniform(-10,10)"
   ]
  },
  {
   "cell_type": "code",
   "execution_count": 8,
   "id": "ee3dee31",
   "metadata": {},
   "outputs": [
    {
     "data": {
      "text/plain": [
       "37.16660048466333"
      ]
     },
     "execution_count": 8,
     "metadata": {},
     "output_type": "execute_result"
    }
   ],
   "source": [
    "random_number = random.randint(-90,89) + random.random()\n",
    "random_number"
   ]
  },
  {
   "cell_type": "code",
   "execution_count": 18,
   "id": "328c4890",
   "metadata": {},
   "outputs": [
    {
     "name": "stdout",
     "output_type": "stream",
     "text": [
      "[71.43320826878875, 81.28769736412087, 29.921230970089226, -49.21091306019859, -13.080763673427684, -3.6864762235506014, -74.02762113389815, -63.06431477099021, 78.00104809125479, -11.593752033152263]\n"
     ]
    }
   ],
   "source": [
    "x=1\n",
    "latitudes = []\n",
    "while x < 11:\n",
    "    random_lat = random.randint(-90,89) + random.random()\n",
    "    latitudes.append(random_lat)\n",
    "    x+=1\n",
    "print(latitudes)"
   ]
  },
  {
   "cell_type": "code",
   "execution_count": 11,
   "id": "6c1835c1",
   "metadata": {},
   "outputs": [
    {
     "name": "stdout",
     "output_type": "stream",
     "text": [
      "[28.81023318106162, -115.57311350532888, -85.00258572414378, 128.50263542016575, 31.707277920911622, -38.82831631504578, 33.75354301284415, -28.011418603200553, -51.55076682042795, -104.46451749796192]\n"
     ]
    }
   ],
   "source": [
    "x=1\n",
    "longitudes = []\n",
    "while x < 11:\n",
    "    random_long = random.uniform(-180, 180)\n",
    "    longitudes.append(random_long)\n",
    "    x+=1\n",
    "print(longitudes)"
   ]
  },
  {
   "cell_type": "code",
   "execution_count": 14,
   "id": "fc37c7e2",
   "metadata": {},
   "outputs": [
    {
     "data": {
      "text/plain": [
       "1.228887581300043"
      ]
     },
     "execution_count": 14,
     "metadata": {},
     "output_type": "execute_result"
    }
   ],
   "source": [
    "np.random.uniform(-90.000, 90.000)"
   ]
  },
  {
   "cell_type": "code",
   "execution_count": 32,
   "id": "3dfb0b2f",
   "metadata": {},
   "outputs": [
    {
     "data": {
      "text/plain": [
       "array([-18.17832313,  57.50923604, -29.27877278, ..., -55.9150508 ,\n",
       "       -76.66451047,  -6.49879143])"
      ]
     },
     "execution_count": 32,
     "metadata": {},
     "output_type": "execute_result"
    }
   ],
   "source": [
    "latitudes = np.random.uniform(low=-90, high=90, size=1500)\n"
   ]
  },
  {
   "cell_type": "code",
   "execution_count": 33,
   "id": "a30e7c22",
   "metadata": {},
   "outputs": [],
   "source": [
    "longitudes = np.random.uniform(low=-180, high=180, size=1500)"
   ]
  },
  {
   "cell_type": "code",
   "execution_count": null,
   "id": "91607b26",
   "metadata": {},
   "outputs": [],
   "source": []
  }
 ],
 "metadata": {
  "kernelspec": {
   "display_name": "Python 3",
   "language": "python",
   "name": "python3"
  },
  "language_info": {
   "codemirror_mode": {
    "name": "ipython",
    "version": 3
   },
   "file_extension": ".py",
   "mimetype": "text/x-python",
   "name": "python",
   "nbconvert_exporter": "python",
   "pygments_lexer": "ipython3",
   "version": "3.8.8"
  }
 },
 "nbformat": 4,
 "nbformat_minor": 5
}
